{
  "nbformat": 4,
  "nbformat_minor": 0,
  "metadata": {
    "colab": {
      "provenance": []
    },
    "kernelspec": {
      "name": "python3",
      "display_name": "Python 3"
    },
    "language_info": {
      "name": "python"
    }
  },
  "cells": [
    {
      "cell_type": "markdown",
      "source": [
        "#Задача 1\n",
        "Написать функцию на вход которой подается строка, состоящая из латинских букв.\n",
        "Функция должна вернуть количество гласных букв (a, e, i, o, u) в этой строке. Написать тесты для кода"
      ],
      "metadata": {
        "id": "M-DGa20PaHnu"
      }
    },
    {
      "cell_type": "code",
      "source": [
        "def get_number_of_vowels(s):\n",
        "  find_this_symbols = \"aeiou\"\n",
        "  count = 0\n",
        "  for i in s.lower():\n",
        "    if i in find_this_symbols:\n",
        "      count += 1\n",
        "  return count\n",
        "\n",
        "def tests():\n",
        "  assert get_number_of_vowels(\"\") == 0\n",
        "  assert get_number_of_vowels(\"aase\") == 3\n",
        "  assert get_number_of_vowels(\"aeiou\") == 5\n",
        "  assert get_number_of_vowels(\"AghUovfe\") == 4\n",
        "\n",
        "\n",
        "tests()\n",
        "s = input()\n",
        "get_number_of_vowels(s)"
      ],
      "metadata": {
        "id": "XvX8X_JJ6PCb",
        "colab": {
          "base_uri": "https://localhost:8080/"
        },
        "outputId": "7ce10786-a35f-407a-aa11-ac21535739f4"
      },
      "execution_count": 8,
      "outputs": [
        {
          "name": "stdout",
          "output_type": "stream",
          "text": [
            "efrhgt\n"
          ]
        },
        {
          "output_type": "execute_result",
          "data": {
            "text/plain": [
              "1"
            ]
          },
          "metadata": {},
          "execution_count": 8
        }
      ]
    },
    {
      "cell_type": "markdown",
      "source": [
        "# Задача 2\n",
        "Написать функцию на вход, коорой подается строка. Функция должна вернуть true, если\n",
        "каждый символ в строке встречается только 1 раз, иначе должна вернуть false. Написать тесты для кода"
      ],
      "metadata": {
        "id": "t2ClV_Y0bbr6"
      }
    },
    {
      "cell_type": "code",
      "source": [
        "def is_unique_symbols_only(s):\n",
        "  return len(s) == len(set(s.lower()))\n",
        "\n",
        "def tests():\n",
        "  assert is_unique_symbols_only(\"aaaa\") == False\n",
        "  assert is_unique_symbols_only(\"asdf\") == True\n",
        "  assert is_unique_symbols_only(\"Asa\") == False\n",
        "  assert is_unique_symbols_only(\"TRue\") == True\n",
        "\n",
        "\n",
        "tests()\n",
        "s = input()\n",
        "is_unique_symbols_only(s)"
      ],
      "metadata": {
        "id": "FppbECao6VIz",
        "colab": {
          "base_uri": "https://localhost:8080/"
        },
        "outputId": "5ff20fca-936b-4159-be71-1d70145d7ee1"
      },
      "execution_count": 11,
      "outputs": [
        {
          "name": "stdout",
          "output_type": "stream",
          "text": [
            "sadd\n"
          ]
        },
        {
          "output_type": "execute_result",
          "data": {
            "text/plain": [
              "False"
            ]
          },
          "metadata": {},
          "execution_count": 11
        }
      ]
    },
    {
      "cell_type": "markdown",
      "source": [
        "# Задача 3\n",
        "Написать функцию, которая принимает положительное число и возвращает количество\n",
        "бит равных 1 в этом числе. Написать тесты для кода"
      ],
      "metadata": {
        "id": "udRiIK1cdt6E"
      }
    },
    {
      "cell_type": "code",
      "source": [
        "def count_bit_in_number(number):\n",
        "  try:\n",
        "    number = int(number)\n",
        "  except:\n",
        "    raise ValueError()\n",
        "  if number <= 0:  # положительные числа -> больше нуля, ноль не считается\n",
        "    raise ValueError()\n",
        "  return bin(number).count('1')\n",
        "\n",
        "import unittest\n",
        "\n",
        "class CountBitInNumberTest(unittest.TestCase):\n",
        "    def test1(self):\n",
        "        self.assertRaises(ValueError, count_bit_in_number, -1)\n",
        "    def test2(self):\n",
        "        self.assertRaises(ValueError, count_bit_in_number, \"fdgfg\")\n",
        "\n",
        "def tests():\n",
        "  assert count_bit_in_number(1) == 1\n",
        "  assert count_bit_in_number(\"2\") == 1\n",
        "  assert count_bit_in_number(3) == 2\n",
        "\n",
        "\n",
        "\n",
        "tests()\n",
        "unittest.main(argv=['first-arg-is-ignored'], exit=False)\n",
        "s = input()\n",
        "count_bit_in_number(s)"
      ],
      "metadata": {
        "id": "6tkfDJRz6dp_",
        "colab": {
          "base_uri": "https://localhost:8080/"
        },
        "outputId": "3ed3106e-d309-4204-e11e-1c377d6899ac"
      },
      "execution_count": 22,
      "outputs": [
        {
          "output_type": "stream",
          "name": "stderr",
          "text": [
            "..\n",
            "----------------------------------------------------------------------\n",
            "Ran 2 tests in 0.004s\n",
            "\n",
            "OK\n"
          ]
        },
        {
          "name": "stdout",
          "output_type": "stream",
          "text": [
            "1\n"
          ]
        },
        {
          "output_type": "execute_result",
          "data": {
            "text/plain": [
              "1"
            ]
          },
          "metadata": {},
          "execution_count": 22
        }
      ]
    },
    {
      "cell_type": "markdown",
      "source": [
        "# Задача 4\n",
        "Написать функцию, которая принимает положительное число. Функция должна вернуть то,\n",
        "сколько раз необходимо перемножать цифры числа или результат перемножения, чтобы\n",
        "получилось число состоящее из одной цифры.\n",
        "Например, для входного числа:\n",
        "· 39 функция должна вернуть 3, так как 3*9=27 => 2*7=14 => 1*4=4\n",
        "· 4 функция должна вернуть 0, так как число уже состоит из одной цифры\n",
        "· 999 функция должна вернуть 4, так как 9*9*9=729 => 7*2*9=126 => 1*2*6=12 =>\n",
        "1*2=2. Написать тесты для кода"
      ],
      "metadata": {
        "id": "26dDUz-Ae17N"
      }
    },
    {
      "cell_type": "code",
      "source": [
        "from math import prod\n",
        "\n",
        "def magic(n):\n",
        "  try:\n",
        "    n = int(n)\n",
        "  except:\n",
        "    raise ValueError()\n",
        "  if n <= 0:\n",
        "    raise ValueError()\n",
        "  counter = 0\n",
        "  while n > 9:\n",
        "    counter += 1\n",
        "    n = prod(map(int, str(n)))\n",
        "  return counter\n",
        "\n",
        "\n",
        "class MagicTest(unittest.TestCase):\n",
        "    def test1(self):\n",
        "        self.assertRaises(ValueError, magic, -1)\n",
        "    def test2(self):\n",
        "        self.assertRaises(ValueError, magic, \"fdgfg\")\n",
        "\n",
        "\n",
        "def tests():\n",
        "  assert magic(39) == 3\n",
        "  assert magic(\"4\") == 0\n",
        "  assert magic(999) == 4\n",
        "\n",
        "\n",
        "tests()\n",
        "unittest.main(argv=['first-arg-is-ignored'], exit=False)\n",
        "s = input()\n",
        "magic(s)"
      ],
      "metadata": {
        "id": "BH1A_Mgi6i4G",
        "colab": {
          "base_uri": "https://localhost:8080/"
        },
        "outputId": "999c8786-f29f-4916-c8a1-0602db83ad5a"
      },
      "execution_count": 32,
      "outputs": [
        {
          "output_type": "stream",
          "name": "stderr",
          "text": [
            "....\n",
            "----------------------------------------------------------------------\n",
            "Ran 4 tests in 0.009s\n",
            "\n",
            "OK\n"
          ]
        },
        {
          "name": "stdout",
          "output_type": "stream",
          "text": [
            "357\n"
          ]
        },
        {
          "output_type": "execute_result",
          "data": {
            "text/plain": [
              "2"
            ]
          },
          "metadata": {},
          "execution_count": 32
        }
      ]
    },
    {
      "cell_type": "markdown",
      "source": [
        "# Задача 5\n",
        "Написать функцию, которая принимает два целочисленных вектора одинаковой длины и\n",
        "возвращает среднеквадратическое отклонение двух векторов. Написать тесты для кода"
      ],
      "metadata": {
        "id": "0nS-kIa8g8vd"
      }
    },
    {
      "cell_type": "code",
      "source": [
        "def mse(pred, true):\n",
        "  s = 0\n",
        "  for i in range(len(pred)):\n",
        "    s += (true[i] - pred[i]) ** 2\n",
        "  return s/len(pred)\n",
        "\n",
        "def tests():\n",
        "  assert mse([1.1,2,1.7], [1,1.7,1.5]) == 0.04666666666666667\n",
        "  assert mse([1, 2, 3], [2, 3, 4]) == 1\n",
        "  assert mse([1, 2, 3], [3, 2, 1]) == 2.6666666666666665\n",
        "  assert mse([1, 1, 1, 1], [1, 1, 1, 1]) == 0\n",
        "\n",
        "\n",
        "tests()\n",
        "arr1 = list(map(float, input().split()))\n",
        "arr2 = list(map(float, input().split()))\n",
        "mse(arr1, arr2)"
      ],
      "metadata": {
        "id": "8iphx4LM6xbx",
        "colab": {
          "base_uri": "https://localhost:8080/"
        },
        "outputId": "866fdddb-3382-4422-a17a-82d8af8981b0"
      },
      "execution_count": 43,
      "outputs": [
        {
          "name": "stdout",
          "output_type": "stream",
          "text": [
            "1 2 3 4 5\n",
            "1 2 3 4 5\n"
          ]
        },
        {
          "output_type": "execute_result",
          "data": {
            "text/plain": [
              "0.0"
            ]
          },
          "metadata": {},
          "execution_count": 43
        }
      ]
    },
    {
      "cell_type": "markdown",
      "source": [
        "# Задача 6\n",
        "Написать функцию, принимающая целое положительное число. Функция должна вернуть\n",
        "строку вида “(n1**p1)(n2**p2)…(nk**pk)” представляющая разложение числа на простые\n",
        "множители (если pi == 1, то выводить только ni).\n",
        "Например, для числа 86240 функция должна вернуть “(2**5)(5)(7**2)(11)”. Написать тесты для кода"
      ],
      "metadata": {
        "id": "vpIPKL439zkw"
      }
    },
    {
      "cell_type": "code",
      "source": [
        "from math import sqrt\n",
        "from collections import defaultdict\n",
        "\n",
        "def simple_numbers(number):\n",
        "  res_arr = []\n",
        "  for i in range(2, int(sqrt(number)) + 1):\n",
        "    while (number % i == 0):\n",
        "      res_arr.append(i)\n",
        "      number //= i\n",
        "  if number != 1:\n",
        "    res_arr.append(number)\n",
        "\n",
        "  res_dict = defaultdict(int)\n",
        "  for i in res_arr:\n",
        "    res_dict[i] += 1\n",
        "\n",
        "  res_str = \"\"\n",
        "  for k, v in sorted(res_dict.items()):\n",
        "    res_str += \"(\" + str(k)\n",
        "    if v > 1:\n",
        "      res_str += \"**\" + str(v)\n",
        "    res_str += \")\"\n",
        "  return res_str\n",
        "\n",
        "def tests():\n",
        "  assert simple_numbers(86240) == \"(2**5)(5)(7**2)(11)\"\n",
        "  assert simple_numbers(17) == \"(17)\"\n",
        "  assert simple_numbers(123) == \"(3)(41)\"\n",
        "  assert simple_numbers(121) == \"(11**2)\"\n",
        "\n",
        "\n",
        "tests()\n",
        "num = int(input())\n",
        "print(simple_numbers(num))"
      ],
      "metadata": {
        "id": "pFebmcZk94Jw",
        "colab": {
          "base_uri": "https://localhost:8080/"
        },
        "outputId": "4b11cc61-bf78-4782-a496-f7a7d4ecea85"
      },
      "execution_count": 69,
      "outputs": [
        {
          "output_type": "stream",
          "name": "stdout",
          "text": [
            "54\n",
            "(2)(3**3)\n"
          ]
        }
      ]
    },
    {
      "cell_type": "markdown",
      "source": [
        "# Задача 7\n",
        "Написать функцию, принимающая целое число n, задающее количество кубиков. Функция\n",
        "должна определить, можно ли из данного кол-ва кубиков построить пирамиду, то есть\n",
        "можно ли представить число n как 1^2+2^2+3^2+…+k^2. Если можно, то функция должна\n",
        "вернуть k, иначе строку “It is impossible”. Написать тесты для кода"
      ],
      "metadata": {
        "id": "ps2s0BudX7A2"
      }
    },
    {
      "cell_type": "code",
      "source": [
        "\"\"\"Как эта пирамида строится?\n",
        "  *\n",
        " ***\n",
        "*****\n",
        "- так?\n",
        "Но там 1^2+2^2+3^2+…+k^2 - правильные числа 1, 5, 14 судя по формуле, но пирамида так не строится.\n",
        "У такой пирамиды 1, 4, 9.\n",
        "У такой:\n",
        "  *   - 1 кубик\n",
        " * *  - 3 кубика всего\n",
        "* * * - 6 кубиков всего\n",
        "Какое-то непонятное условие. Так что я просто по формуле считать буду без всяких пирамид.\n",
        "\"\"\"\n",
        "\n",
        "def pyramid(number):\n",
        "  k = 1\n",
        "  while number > 0:\n",
        "    number -= k**2\n",
        "    if number == 0:\n",
        "      return k\n",
        "    k += 1\n",
        "  return \"“It is impossible”\"\n",
        "\n",
        "def tests():\n",
        "  assert pyramid(1) == 1\n",
        "  assert pyramid(2) == \"“It is impossible”\"\n",
        "  assert pyramid(3) == \"“It is impossible”\"\n",
        "  assert pyramid(5) == 2\n",
        "  assert pyramid(7) == \"“It is impossible”\"\n",
        "  assert pyramid(9) == \"“It is impossible”\"\n",
        "  assert pyramid(13) == \"“It is impossible”\"\n",
        "  assert pyramid(14) == 3\n",
        "  assert pyramid(30) == 4\n",
        "\n",
        "\n",
        "tests()\n",
        "kubiks = int(input())\n",
        "pyramid(kubiks)"
      ],
      "metadata": {
        "id": "3YPjEXxhX_YT",
        "colab": {
          "base_uri": "https://localhost:8080/"
        },
        "outputId": "ac4b9f63-85c6-4bca-c712-6488eee39234"
      },
      "execution_count": 60,
      "outputs": [
        {
          "name": "stdout",
          "output_type": "stream",
          "text": [
            "30\n"
          ]
        },
        {
          "output_type": "execute_result",
          "data": {
            "text/plain": [
              "4"
            ]
          },
          "metadata": {},
          "execution_count": 60
        }
      ]
    },
    {
      "cell_type": "markdown",
      "source": [
        "# Задача 8\n",
        "Функция принимает на вход положительное число и определяет является ли оно сбалансированным, т.е. сумма цифр до средних равна сумме цифр после. Средними в случае нечетного числа цифр считать одну цифру, в случае четного - две средних. Написать тесты для кода"
      ],
      "metadata": {
        "id": "KeKgmIdAQMEJ"
      }
    },
    {
      "cell_type": "code",
      "source": [
        "def check_balance(n):\n",
        "    s=str(n)\n",
        "    l=len(s)//2\n",
        "    return sum(map(int,s[0:l]))==sum(map(int,s[-1:-1-l:-1]))\n",
        "\n",
        "def tests():\n",
        "  assert check_balance(12321) == True\n",
        "  assert check_balance(32141) == True # 6 == 6\n",
        "  assert check_balance(77195) == True # 15 == 15\n",
        "  assert check_balance(224242) == True # 8 == 8\n",
        "  assert check_balance(123321) == True\n",
        "  assert check_balance(123456) == False # 6 != 15\n",
        "\n",
        "\n",
        "tests()\n",
        "numb = int(input())\n",
        "check_balance(numb)"
      ],
      "metadata": {
        "id": "gMAAqtqlQrZt",
        "colab": {
          "base_uri": "https://localhost:8080/"
        },
        "outputId": "2bf22c65-7fd1-4ac6-a614-0cc76b03249f"
      },
      "execution_count": 51,
      "outputs": [
        {
          "name": "stdout",
          "output_type": "stream",
          "text": [
            "111\n"
          ]
        },
        {
          "output_type": "execute_result",
          "data": {
            "text/plain": [
              "True"
            ]
          },
          "metadata": {},
          "execution_count": 51
        }
      ]
    },
    {
      "cell_type": "code",
      "source": [],
      "metadata": {
        "id": "M4AQqPRqFgVp"
      },
      "execution_count": null,
      "outputs": []
    }
  ]
}