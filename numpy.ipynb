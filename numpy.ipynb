{
  "nbformat": 4,
  "nbformat_minor": 0,
  "metadata": {
    "colab": {
      "provenance": []
    },
    "kernelspec": {
      "name": "python3",
      "display_name": "Python 3"
    },
    "language_info": {
      "name": "python"
    }
  },
  "cells": [
    {
      "cell_type": "markdown",
      "source": [
        "<h1>Импорт библиотек"
      ],
      "metadata": {
        "id": "vC84e9kzyxPy"
      }
    },
    {
      "cell_type": "code",
      "execution_count": 1,
      "metadata": {
        "id": "cgKeNegmQG5S"
      },
      "outputs": [],
      "source": [
        "import numpy as np\n",
        "import matplotlib.pyplot as plt"
      ]
    },
    {
      "cell_type": "markdown",
      "source": [
        "<h1>Задача 1. Дан набор из $p$ матриц размерностью $(n, n)$ и $p$ векторов размерностью $(n, 1)$, найти сумму произведений матриц на векторы. Написать тесты для кода"
      ],
      "metadata": {
        "id": "qFM9uVU2x4Ls"
      }
    },
    {
      "cell_type": "code",
      "source": [
        "def sum_prod(X, V):\n",
        "  '''\n",
        "  X - матрицы (n, n)\n",
        "  V - векторы (n, 1)\n",
        "  Гарантируется, что len(X) == len(V)\n",
        "  '''\n",
        "  res_matrix = np.zeros((1, len(V[0])))\n",
        "  for vector_list, matrix_list in zip(V, X):\n",
        "    vector = np.array(vector_list)\n",
        "    matrix = np.array(matrix_list)\n",
        "    res_matrix += np.dot(matrix, vector)\n",
        "  return res_matrix\n",
        "\n",
        "def tests():\n",
        "  assert len(sum_prod([ [[1, 2, 3],[1, 2, 3],[1, 2, 3]],  [[0, 0, 0],[0, 0, 0],[0, 0, 0]], [[1, 0, 0],[0, 1, 0],[0, 0, 1]] ], [ [2,2,2], [1,1,1], [3,3,3] ])[0]) == 3\n",
        "\n",
        "\n",
        "tests()\n",
        "\n",
        "matrixs = [ [[1, 2, 3],\n",
        "             [1, 2, 3],\n",
        "             [1, 2, 3]],\n",
        "\n",
        "            [[0, 0, 0],\n",
        "             [0, 0, 0],\n",
        "             [0, 0, 0]],\n",
        "\n",
        "            [[1, 0, 0],\n",
        "             [0, 1, 0],\n",
        "             [0, 0, 1]] ]\n",
        "vectors = [ [2,2,2], [1,1,1], [3,3,3] ]\n",
        "print(sum_prod(matrixs, vectors))"
      ],
      "metadata": {
        "id": "IAbUvEiYyWFF",
        "colab": {
          "base_uri": "https://localhost:8080/"
        },
        "outputId": "249b57e6-15a2-4abb-e40d-90d3e75a30d8"
      },
      "execution_count": 13,
      "outputs": [
        {
          "output_type": "stream",
          "name": "stdout",
          "text": [
            "[[15. 15. 15.]]\n"
          ]
        }
      ]
    },
    {
      "cell_type": "markdown",
      "source": [
        "<h1>Задача 2. Дана матрица M, напишите функцию, которая бинаризует матрицу по некоторому threshold (то есть, все значения большие threshold становятся равными 1, иначе 0). Напишите тесты для кода"
      ],
      "metadata": {
        "id": "TKwPG4fIy2w4"
      }
    },
    {
      "cell_type": "code",
      "source": [
        "def binarize(M, threshold=0.5):\n",
        "  return np.array([[1 if x > threshold else 0 for x in i] for i in M])\n",
        "\n",
        "def tests():\n",
        "  assert np.array_equal(binarize([[0, 0.8, 0.4],[1, 0.45, 0.5],[0.2, 0.7, 1]]), [[0, 1, 0],[1, 0, 0],[0, 1, 1]])\n",
        "  assert np.array_equal(binarize([[1, 1],[1, 0],[0, 1]]), [[1, 1],[1, 0],[0, 1]])\n",
        "\n",
        "\n",
        "tests()\n",
        "binarize([ [0, 0.8, 0.4],\n",
        "           [1, 0.45, 0.5],\n",
        "           [0.2, 0.7, 1]])"
      ],
      "metadata": {
        "id": "KQDNMgsjRNH7",
        "colab": {
          "base_uri": "https://localhost:8080/"
        },
        "outputId": "c056d322-2c7a-4c87-e870-e883bf957224"
      },
      "execution_count": 30,
      "outputs": [
        {
          "output_type": "execute_result",
          "data": {
            "text/plain": [
              "array([[0, 1, 0],\n",
              "       [1, 0, 0],\n",
              "       [0, 1, 1]])"
            ]
          },
          "metadata": {},
          "execution_count": 30
        }
      ]
    },
    {
      "cell_type": "markdown",
      "source": [
        "<h1>Задача 3. Напишите функцию, которая возвращает уникальные элементы из каждой строки матрицы. Напишите такую же функцию, но для столбцов. Напишите тесты для кода"
      ],
      "metadata": {
        "id": "IY5L-h-7zWhN"
      }
    },
    {
      "cell_type": "code",
      "source": [
        "def tests():\n",
        "  assert np.array_equal(unique_rows([[1, 1],[1, 0],[0, 0]]), [{1}, {0, 1}, {0}])\n",
        "  assert np.array_equal(unique_columns([[1, 1], [1, 1], [0, 1]]), [{0, 1}, {1}])\n",
        "\n",
        "\n",
        "tests()\n",
        "\n",
        "def unique_rows(mat):\n",
        "  res = []\n",
        "  for i in mat:\n",
        "    res.append(set(i))\n",
        "  return res\n",
        "\n",
        "def unique_columns(mat):\n",
        "  a = np.array(mat)\n",
        "  res = []\n",
        "  for i in a.transpose():\n",
        "    res.append(set(i))\n",
        "  return res\n",
        "\n",
        "print(unique_rows([[1, 1],[1, 0],[0, 0]]))\n",
        "print(unique_columns([[1, 1],\n",
        "                [1, 1],\n",
        "                [0, 1]]))"
      ],
      "metadata": {
        "id": "-8dEZhR0SBC-",
        "colab": {
          "base_uri": "https://localhost:8080/"
        },
        "outputId": "878ed211-35c7-4a64-832c-fa5b3a2ff85b"
      },
      "execution_count": 35,
      "outputs": [
        {
          "output_type": "stream",
          "name": "stdout",
          "text": [
            "[{1}, {0, 1}, {0}]\n",
            "[{0, 1}, {1}]\n"
          ]
        }
      ]
    },
    {
      "cell_type": "markdown",
      "source": [
        "<h1>Задача 4. Напишите функцию, которая заполняет матрицу с размерами $(m, n)$ случайными числами, распределенными по нормальному закону. Затем считает мат. ожидание и дисперсию для каждого из столбцов и строк, а также строит для каждой строки и столбца гистограмму значений (использовать функцию hist из модуля matplotlib.plot)"
      ],
      "metadata": {
        "id": "roYAlo4Jz-lH"
      }
    },
    {
      "cell_type": "code",
      "source": [
        "# Your code goes here"
      ],
      "metadata": {
        "id": "nZK_71hMSQzv"
      },
      "execution_count": null,
      "outputs": []
    },
    {
      "cell_type": "markdown",
      "source": [
        "<h1>Задача 5. Напишите функцию, которая заполняет матрицу $(m, n)$ в шахматном порядке заданными числами $a$ и $b$. Напишите тесты для кода"
      ],
      "metadata": {
        "id": "BDyATNdM0dJ2"
      }
    },
    {
      "cell_type": "code",
      "source": [
        "def chess(m, n, a, b):\n",
        "  res = []\n",
        "  for y in range(n):\n",
        "    res.append([])\n",
        "    first_el = a\n",
        "    second_el = b\n",
        "    for x in range(m):\n",
        "      res[y].append(first_el)\n",
        "      first_el, second_el = second_el, first_el\n",
        "    a, b = b, a\n",
        "  return res\n",
        "\n",
        "def tests():\n",
        "  assert np.array_equal(chess(2, 2, 1, 0), [[1, 0], [0, 1]])\n",
        "  assert np.array_equal(chess(3, 2, 0, 1), [[0, 1, 0], [1, 0, 1]])\n",
        "  assert np.array_equal(chess(5, 5, 1, 0), [[1, 0, 1, 0, 1],[0, 1, 0, 1, 0],[1, 0, 1, 0, 1],[0, 1, 0, 1, 0],[1, 0, 1, 0, 1]])\n",
        "\n",
        "\n",
        "tests()\n",
        "\n",
        "for i in chess(8, 8, \"*\", \"0\"):\n",
        "  print(i)"
      ],
      "metadata": {
        "id": "RWNJYWQGecS6",
        "colab": {
          "base_uri": "https://localhost:8080/"
        },
        "outputId": "0b1eb434-7ae2-4210-c569-1be9dd4e6d4b"
      },
      "execution_count": 50,
      "outputs": [
        {
          "output_type": "stream",
          "name": "stdout",
          "text": [
            "['*', '0', '*', '0', '*', '0', '*', '0']\n",
            "['0', '*', '0', '*', '0', '*', '0', '*']\n",
            "['*', '0', '*', '0', '*', '0', '*', '0']\n",
            "['0', '*', '0', '*', '0', '*', '0', '*']\n",
            "['*', '0', '*', '0', '*', '0', '*', '0']\n",
            "['0', '*', '0', '*', '0', '*', '0', '*']\n",
            "['*', '0', '*', '0', '*', '0', '*', '0']\n",
            "['0', '*', '0', '*', '0', '*', '0', '*']\n"
          ]
        }
      ]
    },
    {
      "cell_type": "markdown",
      "source": [
        "<h1>Задача 6. Напишите функцию, которая отрисовывает прямоугольник с заданными размерами (a, b) на изображении размера (m, n), цвет фона задайте в схеме RGB, как и цвет прямоугольника. Цвета также должны быть параметрами функции. Напишите аналогичную функцию но для овала с полуосями a и b. Напишите тесты для кода.\n",
        "Примечание: уравнение эллипса (границы овала) можно записать как:\n",
        "<h1>$\\frac{(x-x_0)^2}{a^2}+\\frac{(y-y_0)^2}{b^2}=1$"
      ],
      "metadata": {
        "id": "-ymXLtTN0vB6"
      }
    },
    {
      "cell_type": "code",
      "source": [
        "def draw_rectangle(a, b, m, n, rectangle_color, background_color):\n",
        "  x_left_offset = (b-n) // 2\n",
        "  x_right_offset = (b-n) // 2 + int((b-n)%2)\n",
        "  y_left_offset = (a-m) // 2\n",
        "  y_right_offset = (a-m) // 2 + int((a-m)%2)\n",
        "  print(x_left_offset, x_right_offset)\n",
        "  for i in range(a):\n",
        "    for j in range(b):\n",
        "      if( (j+1 > x_left_offset and j+1 <= (b-x_right_offset))\n",
        "        and\n",
        "       (i+1 > y_left_offset and i+1 <= (a-y_right_offset))):\n",
        "        print(rectangle_color, end=\"\")\n",
        "      else:\n",
        "        print(background_color, end=\"\")\n",
        "    print()\n",
        "\n",
        "def draw_ellipse(a, b, m, n, ellipse_color, background_color):\n",
        "    # Your code goes here\n",
        "    pass\n",
        "\n",
        "draw_rectangle(7, 8, 5, 3, \"*\", \"=\")  # покрасить в гугл колабе не удалось"
      ],
      "metadata": {
        "id": "sNfl1t_kfOF4",
        "colab": {
          "base_uri": "https://localhost:8080/"
        },
        "outputId": "b7a3f70c-8590-4528-f379-48526d8f0128"
      },
      "execution_count": 112,
      "outputs": [
        {
          "output_type": "stream",
          "name": "stdout",
          "text": [
            "2 3\n",
            "========\n",
            "==***===\n",
            "==***===\n",
            "==***===\n",
            "==***===\n",
            "==***===\n",
            "========\n"
          ]
        }
      ]
    },
    {
      "cell_type": "markdown",
      "source": [
        "<h1>Задача 7. Дан некий временной ряд. Для данного ряда нужно найти его: математическое ожидание, дисперсию, СКО, найти все локальные максимумы и минимумы (локальный максимум - это точка, которая больше своих соседних точек, а локальный минимум - это точка, которая меньше своих соседей), а также вычислить для данного ряда другой ряд, получаемый методом скользящего среднего с размером окна $p$.\n",
        "<h1>Примечание: метод скользящего среднего подразумевает нахождение среднего из подмножетсва ряда размером $p$"
      ],
      "metadata": {
        "id": "S82c38oz244H"
      }
    },
    {
      "cell_type": "code",
      "source": [
        "# Your code goes here"
      ],
      "metadata": {
        "id": "Zb9mIVge5MMt"
      },
      "execution_count": null,
      "outputs": []
    },
    {
      "cell_type": "markdown",
      "source": [
        "<h1> Задача 8. Дан некоторый вектор с целочисленными метками классов, напишите функцию, которая выполняет one-hot-encoding для данного вектора\n",
        "<h1> One-hot-encoding - представление, в котором на месте метки некоторого класса стоит 1, в остальных позициях стоит 0. Например для вектора [0, 2, 3, 0] one-hot-encoding выглядит как: [[1, 0, 0, 0], [0, 0, 1, 0], [0, 0, 0, 1], [1, 0, 0, 0]]"
      ],
      "metadata": {
        "id": "jPkylmOX5O9n"
      }
    },
    {
      "cell_type": "code",
      "source": [
        "def one_hot_encoding(v):\n",
        "  res = []\n",
        "  l = max(v)+1\n",
        "  for i in range(len(v)):\n",
        "    res.append(np.zeros(l, int))\n",
        "    res[i][v[i]] = 1\n",
        "    res[i] = list(res[i])\n",
        "  return res\n",
        "\n",
        "def tests():\n",
        "  assert np.array_equal(one_hot_encoding([0, 2, 3, 0]), [[1, 0, 0, 0], [0, 0, 1, 0], [0, 0, 0, 1], [1, 0, 0, 0]])\n",
        "  assert np.array_equal(one_hot_encoding([1, 2, 3]), [[0, 1, 0, 0], [0, 0, 1, 0], [0, 0, 0, 1]])\n",
        "  assert np.array_equal(one_hot_encoding([0, 4]), [[1, 0, 0, 0, 0], [0, 0, 0, 0, 1]])\n",
        "\n",
        "\n",
        "tests()\n",
        "\n",
        "one_hot_encoding([1, 1, 2, 0])"
      ],
      "metadata": {
        "id": "Y-jlnZvw56lD",
        "colab": {
          "base_uri": "https://localhost:8080/"
        },
        "outputId": "6c0bf30c-041e-4967-eb9d-b66633c0f6b1"
      },
      "execution_count": 64,
      "outputs": [
        {
          "output_type": "execute_result",
          "data": {
            "text/plain": [
              "[[0, 1, 0], [0, 1, 0], [0, 0, 1], [1, 0, 0]]"
            ]
          },
          "metadata": {},
          "execution_count": 64
        }
      ]
    },
    {
      "cell_type": "code",
      "source": [],
      "metadata": {
        "id": "matjIA7SPqVk"
      },
      "execution_count": null,
      "outputs": []
    }
  ]
}